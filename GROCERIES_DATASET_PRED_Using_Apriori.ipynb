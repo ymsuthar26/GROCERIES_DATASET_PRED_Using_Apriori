{
 "cells": [
  {
   "cell_type": "code",
   "execution_count": null,
   "id": "31665e2e-13b9-4b50-8c4c-75f3fe43f35b",
   "metadata": {},
   "outputs": [],
   "source": [
    "import numpy as np\n",
    "import pandas as pd\n",
    "import matplotlib.pyplot as plt\n",
    "import seaborn as sns"
   ]
  },
  {
   "cell_type": "code",
   "execution_count": null,
   "id": "77316d0a-0bea-4b09-acc8-837bc0a80094",
   "metadata": {},
   "outputs": [],
   "source": [
    "df=pd.read_excel('Groceries_dataset.xlsx')"
   ]
  },
  {
   "cell_type": "code",
   "execution_count": null,
   "id": "e9bdc7d6-301d-4525-a83b-aa3c0ab0c716",
   "metadata": {},
   "outputs": [],
   "source": [
    "df.info()"
   ]
  },
  {
   "cell_type": "code",
   "execution_count": null,
   "id": "79cc4028-c10e-4cf0-a263-aa8e60428565",
   "metadata": {},
   "outputs": [],
   "source": [
    "plt.figure(figsize=(10,6))\n",
    "df['Member_number'].value_counts().head(10).plot(kind='bar')\n",
    "plt.title('Top 10 Customers')\n",
    "plt.xlabel('Customer ID')\n",
    "plt.ylabel('Count of Purchase')\n",
    "plt.show()"
   ]
  },
  {
   "cell_type": "code",
   "execution_count": null,
   "id": "60b2f28a-ccbf-4796-aee9-22126c28a0ef",
   "metadata": {},
   "outputs": [],
   "source": [
    "plt.figure(figsize=(10,6))\n",
    "df['itemDescription'].value_counts().head(10).plot(kind='bar')\n",
    "plt.title('Top 10 Products')\n",
    "plt.xlabel('Product Name')\n",
    "plt.ylabel('Count of Purchase')\n",
    "plt.show()"
   ]
  },
  {
   "cell_type": "code",
   "execution_count": null,
   "id": "cd07fa70-ea4a-4191-abda-f2a9b49f0b1b",
   "metadata": {},
   "outputs": [],
   "source": [
    "pip install mlxtend"
   ]
  },
  {
   "cell_type": "code",
   "execution_count": null,
   "id": "93632209-9137-487e-b5ab-829308afeb39",
   "metadata": {},
   "outputs": [],
   "source": [
    "basket=df.groupby('Member_number')['itemDescription'].apply(list).values.tolist()"
   ]
  },
  {
   "cell_type": "code",
   "execution_count": null,
   "id": "37aea2d2-b3df-4e52-9257-74c99ee68252",
   "metadata": {},
   "outputs": [],
   "source": [
    "from mlxtend.preprocessing import TransactionEncoder\n",
    "te=TransactionEncoder()\n",
    "te_ary=te.fit_transform(basket)"
   ]
  },
  {
   "cell_type": "code",
   "execution_count": null,
   "id": "fb18c3d8-867a-4fdc-9fa3-1110d5c369f3",
   "metadata": {},
   "outputs": [],
   "source": [
    "df_encoded=pd.DataFrame(te_ary,columns=te.columns_)"
   ]
  },
  {
   "cell_type": "code",
   "execution_count": null,
   "id": "ab4a1452-986c-46d6-9934-c252ec47925c",
   "metadata": {},
   "outputs": [],
   "source": [
    "df['Member_number'].nunique()"
   ]
  },
  {
   "cell_type": "code",
   "execution_count": null,
   "id": "781641fe-bfcd-4c4d-b3cf-9afbc4f8dfec",
   "metadata": {},
   "outputs": [],
   "source": [
    "df['itemDescription'].nunique()"
   ]
  },
  {
   "cell_type": "code",
   "execution_count": null,
   "id": "24cad308-9daf-486c-ba09-9add302c5a4a",
   "metadata": {},
   "outputs": [],
   "source": [
    "df_encoded.shape"
   ]
  },
  {
   "cell_type": "code",
   "execution_count": 36,
   "id": "151bb063-f6d7-4b68-8de3-e300da4b91e5",
   "metadata": {},
   "outputs": [],
   "source": [
    "from mlxtend.frequent_patterns import apriori"
   ]
  },
  {
   "cell_type": "code",
   "execution_count": 35,
   "id": "251715eb-bf85-4b96-9abb-35ad25f684d3",
   "metadata": {},
   "outputs": [],
   "source": [
    "freq_items=apriori(df_encoded,min_support=0.02,use_colnames=True,max_len=2)"
   ]
  },
  {
   "cell_type": "code",
   "execution_count": 37,
   "id": "378b0583-c5e1-47df-872e-e50b745d7ef1",
   "metadata": {},
   "outputs": [],
   "source": [
    "from mlxtend.frequent_patterns import association_rules"
   ]
  },
  {
   "cell_type": "code",
   "execution_count": 41,
   "id": "fbb9a2ef-70f4-4cbb-bac5-fad86744a269",
   "metadata": {},
   "outputs": [],
   "source": [
    "lift_df=association_rules(freq_items,metric='lift',min_threshold=1.1)"
   ]
  },
  {
   "cell_type": "code",
   "execution_count": 45,
   "id": "b6e0980c-0d0e-46d7-becf-d0dfdf4c384b",
   "metadata": {},
   "outputs": [],
   "source": [
    "lift_df=lift_df[['antecedents', 'consequents','support','confidence', 'lift']]"
   ]
  },
  {
   "cell_type": "code",
   "execution_count": 47,
   "id": "62da4e3a-b371-40da-a4a6-593fdf8b797f",
   "metadata": {},
   "outputs": [
    {
     "data": {
      "text/html": [
       "<div>\n",
       "<style scoped>\n",
       "    .dataframe tbody tr th:only-of-type {\n",
       "        vertical-align: middle;\n",
       "    }\n",
       "\n",
       "    .dataframe tbody tr th {\n",
       "        vertical-align: top;\n",
       "    }\n",
       "\n",
       "    .dataframe thead th {\n",
       "        text-align: right;\n",
       "    }\n",
       "</style>\n",
       "<table border=\"1\" class=\"dataframe\">\n",
       "  <thead>\n",
       "    <tr style=\"text-align: right;\">\n",
       "      <th></th>\n",
       "      <th>antecedents</th>\n",
       "      <th>consequents</th>\n",
       "      <th>support</th>\n",
       "      <th>confidence</th>\n",
       "      <th>lift</th>\n",
       "    </tr>\n",
       "  </thead>\n",
       "  <tbody>\n",
       "    <tr>\n",
       "      <th>730</th>\n",
       "      <td>(white bread)</td>\n",
       "      <td>(whipped/sour cream)</td>\n",
       "      <td>0.021550</td>\n",
       "      <td>0.242775</td>\n",
       "      <td>1.569379</td>\n",
       "    </tr>\n",
       "    <tr>\n",
       "      <th>731</th>\n",
       "      <td>(whipped/sour cream)</td>\n",
       "      <td>(white bread)</td>\n",
       "      <td>0.021550</td>\n",
       "      <td>0.139303</td>\n",
       "      <td>1.569379</td>\n",
       "    </tr>\n",
       "    <tr>\n",
       "      <th>682</th>\n",
       "      <td>(sausage)</td>\n",
       "      <td>(sugar)</td>\n",
       "      <td>0.020523</td>\n",
       "      <td>0.099626</td>\n",
       "      <td>1.511065</td>\n",
       "    </tr>\n",
       "    <tr>\n",
       "      <th>683</th>\n",
       "      <td>(sugar)</td>\n",
       "      <td>(sausage)</td>\n",
       "      <td>0.020523</td>\n",
       "      <td>0.311284</td>\n",
       "      <td>1.511065</td>\n",
       "    </tr>\n",
       "    <tr>\n",
       "      <th>385</th>\n",
       "      <td>(margarine)</td>\n",
       "      <td>(frankfurter)</td>\n",
       "      <td>0.023858</td>\n",
       "      <td>0.203947</td>\n",
       "      <td>1.483184</td>\n",
       "    </tr>\n",
       "    <tr>\n",
       "      <th>...</th>\n",
       "      <td>...</td>\n",
       "      <td>...</td>\n",
       "      <td>...</td>\n",
       "      <td>...</td>\n",
       "      <td>...</td>\n",
       "    </tr>\n",
       "    <tr>\n",
       "      <th>350</th>\n",
       "      <td>(dessert)</td>\n",
       "      <td>(other vegetables)</td>\n",
       "      <td>0.035916</td>\n",
       "      <td>0.415430</td>\n",
       "      <td>1.103098</td>\n",
       "    </tr>\n",
       "    <tr>\n",
       "      <th>723</th>\n",
       "      <td>(white bread)</td>\n",
       "      <td>(tropical fruit)</td>\n",
       "      <td>0.022832</td>\n",
       "      <td>0.257225</td>\n",
       "      <td>1.100620</td>\n",
       "    </tr>\n",
       "    <tr>\n",
       "      <th>722</th>\n",
       "      <td>(tropical fruit)</td>\n",
       "      <td>(white bread)</td>\n",
       "      <td>0.022832</td>\n",
       "      <td>0.097695</td>\n",
       "      <td>1.100620</td>\n",
       "    </tr>\n",
       "    <tr>\n",
       "      <th>635</th>\n",
       "      <td>(soda)</td>\n",
       "      <td>(pork)</td>\n",
       "      <td>0.045664</td>\n",
       "      <td>0.145663</td>\n",
       "      <td>1.100376</td>\n",
       "    </tr>\n",
       "    <tr>\n",
       "      <th>634</th>\n",
       "      <td>(pork)</td>\n",
       "      <td>(soda)</td>\n",
       "      <td>0.045664</td>\n",
       "      <td>0.344961</td>\n",
       "      <td>1.100376</td>\n",
       "    </tr>\n",
       "  </tbody>\n",
       "</table>\n",
       "<p>742 rows × 5 columns</p>\n",
       "</div>"
      ],
      "text/plain": [
       "              antecedents           consequents   support  confidence  \\\n",
       "730         (white bread)  (whipped/sour cream)  0.021550    0.242775   \n",
       "731  (whipped/sour cream)         (white bread)  0.021550    0.139303   \n",
       "682             (sausage)               (sugar)  0.020523    0.099626   \n",
       "683               (sugar)             (sausage)  0.020523    0.311284   \n",
       "385           (margarine)         (frankfurter)  0.023858    0.203947   \n",
       "..                    ...                   ...       ...         ...   \n",
       "350             (dessert)    (other vegetables)  0.035916    0.415430   \n",
       "723         (white bread)      (tropical fruit)  0.022832    0.257225   \n",
       "722      (tropical fruit)         (white bread)  0.022832    0.097695   \n",
       "635                (soda)                (pork)  0.045664    0.145663   \n",
       "634                (pork)                (soda)  0.045664    0.344961   \n",
       "\n",
       "         lift  \n",
       "730  1.569379  \n",
       "731  1.569379  \n",
       "682  1.511065  \n",
       "683  1.511065  \n",
       "385  1.483184  \n",
       "..        ...  \n",
       "350  1.103098  \n",
       "723  1.100620  \n",
       "722  1.100620  \n",
       "635  1.100376  \n",
       "634  1.100376  \n",
       "\n",
       "[742 rows x 5 columns]"
      ]
     },
     "execution_count": 47,
     "metadata": {},
     "output_type": "execute_result"
    }
   ],
   "source": [
    "lift_df.sort_values('lift',ascending=False)"
   ]
  }
 ],
 "metadata": {
  "kernelspec": {
   "display_name": "Python 3 (ipykernel)",
   "language": "python",
   "name": "python3"
  },
  "language_info": {
   "codemirror_mode": {
    "name": "ipython",
    "version": 3
   },
   "file_extension": ".py",
   "mimetype": "text/x-python",
   "name": "python",
   "nbconvert_exporter": "python",
   "pygments_lexer": "ipython3",
   "version": "3.11.9"
  }
 },
 "nbformat": 4,
 "nbformat_minor": 5
}
